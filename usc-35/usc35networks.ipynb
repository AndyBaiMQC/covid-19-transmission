{
  "nbformat": 4,
  "nbformat_minor": 0,
  "metadata": {
    "colab": {
      "name": "usc35networks.ipynb",
      "provenance": [],
      "collapsed_sections": []
    },
    "kernelspec": {
      "name": "python3",
      "display_name": "Python 3"
    }
  },
  "cells": [
    {
      "cell_type": "code",
      "metadata": {
        "colab": {
          "base_uri": "https://localhost:8080/"
        },
        "id": "0LQM1ZsXQ1Xm",
        "outputId": "ad36581e-d218-4875-d077-2e7d25b6ce15"
      },
      "source": [
        "from google.colab import drive\n",
        "drive.mount(\"/content/drive\")"
      ],
      "execution_count": 1,
      "outputs": [
        {
          "output_type": "stream",
          "text": [
            "Mounted at /content/drive\n"
          ],
          "name": "stdout"
        }
      ]
    },
    {
      "cell_type": "code",
      "metadata": {
        "id": "-6BhdwXsRF2m"
      },
      "source": [
        "import codecs\n",
        "import io\n",
        "import os\n",
        "import pickle\n",
        "import pandas as pd\n",
        "import numpy as np\n",
        "import random\n",
        "import itertools\n",
        "import matplotlib.pyplot as plt\n",
        "import matplotlib.cm as cm\n",
        "from IPython.display import display\n",
        "from scipy import linalg as la\n",
        "from scipy.io import mmread\n",
        "import networkx as nx\n",
        "import random\n",
        "from scipy.sparse import coo_matrix\n",
        "from scipy.sparse import bsr_matrix, csc_matrix, csr_matrix, lil_matrix, spmatrix\n",
        "from scipy.sparse.csgraph import *\n",
        "from collections import Counter"
      ],
      "execution_count": 14,
      "outputs": []
    },
    {
      "cell_type": "code",
      "metadata": {
        "id": "t4vmIAaLSFH8"
      },
      "source": [
        "nscpath = '/content/drive/My Drive/comp596/as2/USC35.mtx'\n",
        "nsc_matrix = mmread(nscpath)\n"
      ],
      "execution_count": 3,
      "outputs": []
    },
    {
      "cell_type": "code",
      "metadata": {
        "colab": {
          "base_uri": "https://localhost:8080/"
        },
        "id": "7CI6wu-9SbD8",
        "outputId": "4fedd3ef-77f9-4762-afdf-790534ab8932"
      },
      "source": [
        "# nsc_matrix is a sparse coo_matrix\n",
        "from scipy.sparse import coo_matrix\n",
        "\n",
        "def plot_coo_matrix(m):\n",
        "    if not isinstance(m, coo_matrix):\n",
        "        m = coo_matrix(m)\n",
        "    fig = plt.figure()\n",
        "    ax = fig.add_subplot(111, facecolor='white')\n",
        "    ax.plot(m.col, m.row, 's', color='blue', ms=1)\n",
        "    ax.set_xlim(0, m.shape[1])\n",
        "    ax.set_ylim(0, m.shape[0])\n",
        "    ax.set_aspect('equal')\n",
        "    for spine in ax.spines.values():\n",
        "        spine.set_visible(False)\n",
        "    ax.invert_yaxis()\n",
        "    ax.set_aspect('equal')\n",
        "    ax.set_xticks([])\n",
        "    ax.set_yticks([])\n",
        "    return ax\n",
        "\n",
        "print(nsc_matrix)"
      ],
      "execution_count": 4,
      "outputs": [
        {
          "output_type": "stream",
          "text": [
            "  (129, 0)\t1.0\n",
            "  (283, 0)\t1.0\n",
            "  (660, 0)\t1.0\n",
            "  (664, 0)\t1.0\n",
            "  (703, 0)\t1.0\n",
            "  (802, 0)\t1.0\n",
            "  (833, 0)\t1.0\n",
            "  (1093, 0)\t1.0\n",
            "  (1375, 0)\t1.0\n",
            "  (1405, 0)\t1.0\n",
            "  (1679, 0)\t1.0\n",
            "  (2051, 0)\t1.0\n",
            "  (2161, 0)\t1.0\n",
            "  (2404, 0)\t1.0\n",
            "  (2522, 0)\t1.0\n",
            "  (2998, 0)\t1.0\n",
            "  (3107, 0)\t1.0\n",
            "  (3162, 0)\t1.0\n",
            "  (3375, 0)\t1.0\n",
            "  (3450, 0)\t1.0\n",
            "  (3458, 0)\t1.0\n",
            "  (4076, 0)\t1.0\n",
            "  (4296, 0)\t1.0\n",
            "  (4530, 0)\t1.0\n",
            "  (4649, 0)\t1.0\n",
            "  :\t:\n",
            "  (17335, 17403)\t1.0\n",
            "  (17337, 17412)\t1.0\n",
            "  (17341, 17349)\t1.0\n",
            "  (17342, 17442)\t1.0\n",
            "  (17345, 17396)\t1.0\n",
            "  (17346, 17432)\t1.0\n",
            "  (17347, 17401)\t1.0\n",
            "  (17348, 17398)\t1.0\n",
            "  (17350, 17389)\t1.0\n",
            "  (17353, 17405)\t1.0\n",
            "  (17355, 17434)\t1.0\n",
            "  (17357, 17435)\t1.0\n",
            "  (17360, 17365)\t1.0\n",
            "  (17361, 17400)\t1.0\n",
            "  (17361, 17436)\t1.0\n",
            "  (17361, 17441)\t1.0\n",
            "  (17365, 17408)\t1.0\n",
            "  (17365, 17420)\t1.0\n",
            "  (17379, 17416)\t1.0\n",
            "  (17381, 17389)\t1.0\n",
            "  (17381, 17395)\t1.0\n",
            "  (17398, 17412)\t1.0\n",
            "  (17400, 17410)\t1.0\n",
            "  (17416, 17438)\t1.0\n",
            "  (17428, 17434)\t1.0\n"
          ],
          "name": "stdout"
        }
      ]
    },
    {
      "cell_type": "code",
      "metadata": {
        "id": "dIOIaTlaWJ9f"
      },
      "source": [
        "arr1 = nsc_matrix.toarray()\n",
        "tmp1 = nsc_matrix.copy()\n",
        "G1 = nx.from_scipy_sparse_matrix(tmp1)"
      ],
      "execution_count": 5,
      "outputs": []
    },
    {
      "cell_type": "code",
      "metadata": {
        "colab": {
          "base_uri": "https://localhost:8080/"
        },
        "id": "rpYQPOoxXUMY",
        "outputId": "6ec69647-e2cf-482c-c8cd-3386e03ee383"
      },
      "source": [
        "G1[0]"
      ],
      "execution_count": 6,
      "outputs": [
        {
          "output_type": "execute_result",
          "data": {
            "text/plain": [
              "AtlasView({129: {'weight': 1.0}, 283: {'weight': 1.0}, 660: {'weight': 1.0}, 664: {'weight': 1.0}, 703: {'weight': 1.0}, 802: {'weight': 1.0}, 833: {'weight': 1.0}, 1093: {'weight': 1.0}, 1375: {'weight': 1.0}, 1405: {'weight': 1.0}, 1679: {'weight': 1.0}, 2051: {'weight': 1.0}, 2161: {'weight': 1.0}, 2404: {'weight': 1.0}, 2522: {'weight': 1.0}, 2998: {'weight': 1.0}, 3107: {'weight': 1.0}, 3162: {'weight': 1.0}, 3375: {'weight': 1.0}, 3450: {'weight': 1.0}, 3458: {'weight': 1.0}, 4076: {'weight': 1.0}, 4296: {'weight': 1.0}, 4530: {'weight': 1.0}, 4649: {'weight': 1.0}, 4657: {'weight': 1.0}, 4722: {'weight': 1.0}, 5013: {'weight': 1.0}, 5018: {'weight': 1.0}, 5140: {'weight': 1.0}, 5149: {'weight': 1.0}, 5221: {'weight': 1.0}, 5324: {'weight': 1.0}, 5344: {'weight': 1.0}, 5408: {'weight': 1.0}, 5682: {'weight': 1.0}, 6046: {'weight': 1.0}, 6133: {'weight': 1.0}, 6469: {'weight': 1.0}, 6470: {'weight': 1.0}, 6660: {'weight': 1.0}, 7018: {'weight': 1.0}, 7074: {'weight': 1.0}, 7080: {'weight': 1.0}, 7279: {'weight': 1.0}, 7335: {'weight': 1.0}, 7361: {'weight': 1.0}, 7408: {'weight': 1.0}, 7430: {'weight': 1.0}, 7467: {'weight': 1.0}, 7498: {'weight': 1.0}, 7508: {'weight': 1.0}, 7642: {'weight': 1.0}, 7819: {'weight': 1.0}, 7944: {'weight': 1.0}, 8033: {'weight': 1.0}, 8423: {'weight': 1.0}, 8472: {'weight': 1.0}, 8598: {'weight': 1.0}, 9076: {'weight': 1.0}, 9141: {'weight': 1.0}, 9242: {'weight': 1.0}, 9301: {'weight': 1.0}, 9334: {'weight': 1.0}, 9531: {'weight': 1.0}, 9594: {'weight': 1.0}, 9619: {'weight': 1.0}, 9714: {'weight': 1.0}, 10172: {'weight': 1.0}, 10220: {'weight': 1.0}, 10649: {'weight': 1.0}, 10738: {'weight': 1.0}, 10866: {'weight': 1.0}, 11232: {'weight': 1.0}, 11402: {'weight': 1.0}, 11574: {'weight': 1.0}, 11660: {'weight': 1.0}, 11959: {'weight': 1.0}, 12084: {'weight': 1.0}, 12108: {'weight': 1.0}, 12636: {'weight': 1.0}, 13893: {'weight': 1.0}, 13990: {'weight': 1.0}, 14055: {'weight': 1.0}, 14381: {'weight': 1.0}, 14391: {'weight': 1.0}, 15120: {'weight': 1.0}, 15132: {'weight': 1.0}, 15566: {'weight': 1.0}, 15592: {'weight': 1.0}, 15661: {'weight': 1.0}, 15759: {'weight': 1.0}, 15767: {'weight': 1.0}, 15901: {'weight': 1.0}, 15941: {'weight': 1.0}, 16127: {'weight': 1.0}, 16218: {'weight': 1.0}, 16760: {'weight': 1.0}, 16772: {'weight': 1.0}, 16924: {'weight': 1.0}, 17012: {'weight': 1.0}, 17079: {'weight': 1.0}, 17330: {'weight': 1.0}, 17425: {'weight': 1.0}})"
            ]
          },
          "metadata": {
            "tags": []
          },
          "execution_count": 6
        }
      ]
    },
    {
      "cell_type": "code",
      "metadata": {
        "colab": {
          "base_uri": "https://localhost:8080/",
          "height": 319
        },
        "id": "o76ZeKX5YSmS",
        "outputId": "83b8d5de-eebc-4e16-ee6b-d86b2b20556e"
      },
      "source": [
        "# draw a small subgraph from G1\n",
        "k = 1000\n",
        "sampled_nodes = random.sample(G1.nodes, k)\n",
        "sampled_graph = G1.subgraph(sampled_nodes)\n",
        "\n",
        "nx.draw(sampled_graph)\n",
        "plt.show()"
      ],
      "execution_count": null,
      "outputs": [
        {
          "output_type": "display_data",
          "data": {
            "image/png": "[encoded data removed]",
            "text/plain": [
              "<Figure size 432x288 with 1 Axes>"
            ]
          },
          "metadata": {
            "tags": []
          }
        }
      ]
    },
    {
      "cell_type": "markdown",
      "metadata": {
        "id": "-11pQsHPc7Z8"
      },
      "source": [
        "Degree Centrality"
      ]
    },
    {
      "cell_type": "code",
      "metadata": {
        "colab": {
          "base_uri": "https://localhost:8080/",
          "height": 313
        },
        "id": "ch3keficc55y",
        "outputId": "58d56a56-0719-49f0-e721-f86285f7ade1"
      },
      "source": [
        "def plot_centrality(keys, vals, title, colour):\n",
        "    c = pd.DataFrame()\n",
        "    c['facebook user'] = keys\n",
        "    c['centrality'] = vals\n",
        "    c = c.sort_values(by='centrality', ascending=False)\n",
        "    c = c.drop(c.index[10:]) # leave only top 10 centralities\n",
        "\n",
        "    # # get individual's name from their number\n",
        "    # d = names.merge(c, on='Number') # JOIN operation on names and c\n",
        "    # d = d.sort_values(by='Centrality', ascending=False)\n",
        "\n",
        "    ax = c.plot.bar(x='facebook user', y='centrality', title=title, \n",
        "                    color=colour, alpha=0.84, rot=39, legend=False)\n",
        "    ax.set_ylabel(\"centrality\")\n",
        "\n",
        "cent_dict = nx.degree_centrality(G1)\n",
        "ks = cent_dict.keys()\n",
        "vs = cent_dict.values()\n",
        "# print(vs)\n",
        "plot_centrality(ks, vs, \"Degree Centrality Top 10\", 'green')"
      ],
      "execution_count": null,
      "outputs": [
        {
          "output_type": "display_data",
          "data": {
            "image/png": "[encoded data removed]",
            "text/plain": [
              "<Figure size 432x288 with 1 Axes>"
            ]
          },
          "metadata": {
            "tags": [],
            "needs_background": "light"
          }
        }
      ]
    },
    {
      "cell_type": "markdown",
      "metadata": {
        "id": "OGeZTxbGheWB"
      },
      "source": [
        "Eigenvector Centrality"
      ]
    },
    {
      "cell_type": "code",
      "metadata": {
        "colab": {
          "base_uri": "https://localhost:8080/",
          "height": 313
        },
        "id": "o606TPYohnYQ",
        "outputId": "f4ad8bdc-7875-4ec8-d8b2-3ba30620001b"
      },
      "source": [
        "eg_dict = nx.eigenvector_centrality(G1)\n",
        "egks = eg_dict.keys()\n",
        "egvs = eg_dict.values()\n",
        "plot_centrality(egks, egvs, \"Eigenvector Centrality Top 10\", 'violet')"
      ],
      "execution_count": null,
      "outputs": [
        {
          "output_type": "display_data",
          "data": {
            "image/png": "[encoded data removed]",
            "text/plain": [
              "<Figure size 432x288 with 1 Axes>"
            ]
          },
          "metadata": {
            "tags": [],
            "needs_background": "light"
          }
        }
      ]
    },
    {
      "cell_type": "markdown",
      "metadata": {
        "id": "LBm6t7K5l7WL"
      },
      "source": [
        "Degree Distribution"
      ]
    },
    {
      "cell_type": "code",
      "metadata": {
        "colab": {
          "base_uri": "https://localhost:8080/",
          "height": 265
        },
        "id": "sdu6_WUQl9VD",
        "outputId": "2221d3e9-b93c-4356-980d-8e77aff1541f"
      },
      "source": [
        "def plot_degree_dist(G):\n",
        "    degrees = [G.degree(n) for n in G.nodes()]\n",
        "    plt.scatter(G.nodes(), degrees)\n",
        "    plt.show()\n",
        "\n",
        "plot_degree_dist(G1)"
      ],
      "execution_count": null,
      "outputs": [
        {
          "output_type": "display_data",
          "data": {
            "image/png": "[encoded data removed]",
            "text/plain": [
              "<Figure size 432x288 with 1 Axes>"
            ]
          },
          "metadata": {
            "tags": [],
            "needs_background": "light"
          }
        }
      ]
    },
    {
      "cell_type": "code",
      "metadata": {
        "colab": {
          "base_uri": "https://localhost:8080/",
          "height": 519
        },
        "id": "kKvtKijrnqy1",
        "outputId": "7c7f8ed4-f01e-4a67-8945-35ddb73069d0"
      },
      "source": [
        "def log_binning(counter_dict,bin_count=35):\n",
        "\n",
        "    max_x = np.log10(max(counter_dict.keys()))\n",
        "    max_y = np.log10(max(counter_dict.values()))\n",
        "    max_base = np.max([max_x,max_y])\n",
        "\n",
        "    ks = counter_dict.keys()\n",
        "    largers = [i for i in ks]\n",
        "    min_x = np.log10(np.min(largers))\n",
        "    bins = np.logspace(min_x,max_base,num=bin_count)\n",
        "    bin_means_y = (np.histogram(counter_dict.keys(),bins,weights=counter_dict.values())[0] / np.histogram(counter_dict.keys(),bins)[0])\n",
        "    bin_means_x = (np.histogram(counter_dict.keys(),bins,weights=counter_dict.keys())[0] / np.histogram(counter_dict.keys(),bins)[0])\n",
        "\n",
        "    return bin_means_x,bin_means_y\n",
        "\n",
        "# ba_c = nx.degree_centrality(G1)\n",
        "# ba_c2 = dict(Counter(ba_c.values()))\n",
        "# ba_x,ba_y = log_binning(ba_c2,50)\n",
        "\n",
        "# plt.xscale('log')\n",
        "# plt.yscale('log')\n",
        "# plt.scatter(ba_x,ba_y,c='r',marker='s',s=50)\n",
        "# plt.scatter(ba_c2.keys(),ba_c2.values(),c='b',marker='x')\n",
        "# plt.xlim((1e-4,1e-1))\n",
        "# plt.ylim((.9,1e4))\n",
        "# plt.xlabel('Log degrees (normalized)')\n",
        "# plt.ylabel('Frequency')\n",
        "# plt.show()\n",
        "\n",
        "degree_freq = nx.degree_histogram(G1)\n",
        "degrees = range(len(degree_freq))\n",
        "plt.figure(figsize=(12, 8)) \n",
        "plt.loglog(degrees, degree_freq,'b*') \n",
        "# plt.loglog(degrees[m:], degree_freq[m:],'go-') \n",
        "plt.xlabel('Degree')\n",
        "plt.ylabel('Frequency')"
      ],
      "execution_count": null,
      "outputs": [
        {
          "output_type": "execute_result",
          "data": {
            "text/plain": [
              "Text(0, 0.5, 'Frequency')"
            ]
          },
          "metadata": {
            "tags": []
          },
          "execution_count": 58
        },
        {
          "output_type": "display_data",
          "data": {
            "image/png": "[encoded data removed]",
            "text/plain": [
              "<Figure size 864x576 with 1 Axes>"
            ]
          },
          "metadata": {
            "tags": [],
            "needs_background": "light"
          }
        }
      ]
    },
    {
      "cell_type": "markdown",
      "metadata": {
        "id": "5kwb2stFrrjB"
      },
      "source": [
        "Clustering Coefficient Distribution"
      ]
    },
    {
      "cell_type": "code",
      "metadata": {
        "id": "sKklD_IErwxp"
      },
      "source": [
        "clcc = nx.clustering(G1)\n"
      ],
      "execution_count": 7,
      "outputs": []
    },
    {
      "cell_type": "code",
      "metadata": {
        "colab": {
          "base_uri": "https://localhost:8080/",
          "height": 279
        },
        "id": "VBTzRQp7satf",
        "outputId": "cb138127-9576-4695-a063-365047a48b1e"
      },
      "source": [
        "# cmap = plt.get_cmap('autumn')\n",
        "norm = plt.Normalize(0, max(clcc.values()))\n",
        "# node_colors = [cmap(norm(lcc[node])) for node in gc.nodes]\n",
        "fig, ax2 = plt.subplots(ncols=1, figsize=(6, 4))\n",
        "# nx.draw_spring(gc, node_color=node_colors, with_labels=True, ax=ax1)\n",
        "# fig.colorbar(ScalarMappable(cmap=cmap, norm=norm), label='Clustering', shrink=0.95, ax=ax1)\n",
        "\n",
        "ax2.hist(clcc.values(), bins=10, color='yellow')\n",
        "ax2.set_xlabel('Clustering')\n",
        "ax2.set_ylabel('Frequency')\n",
        "\n",
        "plt.show()"
      ],
      "execution_count": 11,
      "outputs": [
        {
          "output_type": "display_data",
          "data": {
            "image/png": "[encoded data removed]",
            "text/plain": [
              "<Figure size 432x288 with 1 Axes>"
            ]
          },
          "metadata": {
            "tags": [],
            "needs_background": "light"
          }
        }
      ]
    },
    {
      "cell_type": "markdown",
      "metadata": {
        "id": "vehdzLMcvFis"
      },
      "source": [
        "Connected Components"
      ]
    },
    {
      "cell_type": "code",
      "metadata": {
        "colab": {
          "base_uri": "https://localhost:8080/"
        },
        "id": "Rbdy4ie3vIJH",
        "outputId": "542c10c4-8223-4388-f9d1-e225e74cdb30"
      },
      "source": [
        "numconcom = nx.number_connected_components(G1)\n",
        "print(f\"Number of Connected Components in USC35: {numconcom}\")"
      ],
      "execution_count": 12,
      "outputs": [
        {
          "output_type": "stream",
          "text": [
            "Number of Connected Components in USC35: 3\n"
          ],
          "name": "stdout"
        }
      ]
    },
    {
      "cell_type": "code",
      "metadata": {
        "colab": {
          "base_uri": "https://localhost:8080/"
        },
        "id": "2ydVsescxSkD",
        "outputId": "c70a7f8a-ab02-4dd1-96e0-613bc7424dba"
      },
      "source": [
        "scc = [len(c) for c in sorted(nx.connected_components(G1), key=len, reverse=True)]\n",
        "print(\"Size of Connected Components in USC35\")\n",
        "print(scc)"
      ],
      "execution_count": 13,
      "outputs": [
        {
          "output_type": "stream",
          "text": [
            "Size of Connected Components in USC35\n",
            "[17440, 2, 2]\n"
          ],
          "name": "stdout"
        }
      ]
    },
    {
      "cell_type": "markdown",
      "metadata": {
        "id": "FAxII_zN5NHj"
      },
      "source": [
        "Shortest Paths"
      ]
    },
    {
      "cell_type": "code",
      "metadata": {
        "colab": {
          "base_uri": "https://localhost:8080/",
          "height": 331
        },
        "id": "TXwoI4H45QQy",
        "outputId": "5b27794f-5c61-44d8-946c-999adbb5c519"
      },
      "source": [
        "def short_paths_dist(m):\n",
        "  avg1 = 0\n",
        "  # get the distance matrix, distances, and count of distances\n",
        "  path1 = shortest_path(m, directed=False)\n",
        "  dist_m, count_dist_m = np.unique(path1, return_counts=True, axis=None)\n",
        "  # compute average\n",
        "  path_cp = path1.copy()\n",
        "  path_cp[~np.isfinite(path_cp)] = 0\n",
        "  # path_cp = np.array(path_cp)\n",
        "  avg1 = path_cp.sum()\n",
        "  n = path_cp.shape[0]\n",
        "  avg1 = avg1 / (n*(n-1))\n",
        "\n",
        "  plt.title('shortest paths distribution')\n",
        "  # plt.scatter(dist_m, count_dist_m)\n",
        "  plt.plot(dist_m, count_dist_m, c='m', linestyle='-', marker='o')\n",
        "  plt.xlabel(\"Distance\")\n",
        "  plt.ylabel(\"Count of distances\")\n",
        "  plt.figure()  \n",
        "  print('The average is ' , avg1)\n",
        "\n",
        "g2 = G1.copy()\n",
        "msp = nx.to_scipy_sparse_matrix(g2, format='csc')\n",
        "short_paths_dist(msp)"
      ],
      "execution_count": 15,
      "outputs": [
        {
          "output_type": "stream",
          "text": [
            "The average is  2.799542889545051\n"
          ],
          "name": "stdout"
        },
        {
          "output_type": "display_data",
          "data": {
            "image/png": "[encoded data removed]",
            "text/plain": [
              "<Figure size 432x288 with 1 Axes>"
            ]
          },
          "metadata": {
            "tags": [],
            "needs_background": "light"
          }
        },
        {
          "output_type": "display_data",
          "data": {
            "text/plain": [
              "<Figure size 432x288 with 0 Axes>"
            ]
          },
          "metadata": {
            "tags": []
          }
        }
      ]
    }
  ]
}