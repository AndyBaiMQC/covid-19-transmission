{
 "cells": [
  {
   "cell_type": "code",
   "execution_count": null,
   "metadata": {},
   "outputs": [],
   "source": [
    "import pandas as pd\n",
    "import numpy as np\n",
    "import networkx as nx"
   ]
  },
  {
   "cell_type": "code",
   "execution_count": null,
   "metadata": {},
   "outputs": [],
   "source": [
    "head_lst = [\"conn_id\", \"user_id\", \"node_id\", \"timestamp_in\", \"timestamp_out\"]\n",
    "data = pd.read_csv(\"../dataset\\stable\\contact_network\\mtl wifi\\isf_wifidog_anonymised_data_nogeo_2004-08-27_2010-03-07.csv\", names=head_lst)\n",
    "data = data.dropna()\n",
    "data.head()"
   ]
  },
  {
   "cell_type": "code",
   "execution_count": null,
   "metadata": {},
   "outputs": [],
   "source": [
    "data['timestamp_in'] = pd.to_datetime(data['timestamp_in'])\n",
    "data['timestamp_out'] = pd.to_datetime(data['timestamp_out'])\n",
    "data.info()"
   ]
  },
  {
   "cell_type": "code",
   "execution_count": null,
   "metadata": {},
   "outputs": [],
   "source": [
    "df_date = data[data['timestamp_in'] < '2006-11-30'] # uncomment for wifi 1\n",
    "# df_date = data[(data['timestamp_in'] > '2007-07-01') & (data['timestamp_in'] < '2008-02-26')] # uncomment for wifi 2\n",
    "# df_date = data[data['timestamp_in'] > '2010-03-05'] # uncomment for wifi 3"
   ]
  },
  {
   "cell_type": "code",
   "execution_count": null,
   "metadata": {},
   "outputs": [],
   "source": [
    "user_id_map_to_num = {k:v for v,k in enumerate(df_date.user_id.unique())}"
   ]
  },
  {
   "cell_type": "code",
   "execution_count": null,
   "metadata": {},
   "outputs": [],
   "source": [
    "df_date['user_id'] = df_date['user_id'].apply(lambda x: user_id_map_to_num[x])"
   ]
  },
  {
   "cell_type": "code",
   "execution_count": null,
   "metadata": {},
   "outputs": [],
   "source": [
    "groups = df_date.groupby(\"node_id\").filter(lambda x: len(x) > 1)"
   ]
  },
  {
   "cell_type": "code",
   "execution_count": null,
   "metadata": {},
   "outputs": [],
   "source": [
    "groups = groups.groupby(\"node_id\")"
   ]
  },
  {
   "cell_type": "code",
   "execution_count": null,
   "metadata": {},
   "outputs": [],
   "source": [
    "# %%time\n",
    "edges = []\n",
    "neighbours = []\n",
    "i = 0\n",
    "for name, group in groups:\n",
    "    print(i)\n",
    "    for index, row in group.iterrows():\n",
    "        time_in = row['timestamp_in']\n",
    "        time_out = row['timestamp_out']\n",
    "        df_rows_to_check = group[(group.index > index) & (group['user_id'] != row['user_id'])]\n",
    "        neighbours = df_rows_to_check[((df_rows_to_check['timestamp_out']>=time_in) & (df_rows_to_check['timestamp_out']<=time_out)) | \n",
    "                        ((df_rows_to_check['timestamp_in']>=time_in) & (df_rows_to_check['timestamp_in']<=time_out))]['user_id'].values\n",
    "        if len(neighbours) > 0:\n",
    "            user = row['user_id']\n",
    "            edges.append([[user, neighbour] for neighbour in neighbours.tolist()])\n",
    "    i += 1"
   ]
  },
  {
   "cell_type": "code",
   "execution_count": null,
   "metadata": {},
   "outputs": [],
   "source": [
    "edges = [ e for edge_lst in edges for e in edge_lst]"
   ]
  },
  {
   "cell_type": "code",
   "execution_count": null,
   "metadata": {},
   "outputs": [],
   "source": [
    "user_id_map_to_num = {k:v for v,k in enumerate(np.unique(np.array(edges)))}"
   ]
  },
  {
   "cell_type": "code",
   "execution_count": null,
   "metadata": {},
   "outputs": [],
   "source": [
    "edges_labelled = [[user_id_map_to_num[n] for n in e] for e in edges ]"
   ]
  },
  {
   "cell_type": "code",
   "execution_count": null,
   "metadata": {},
   "outputs": [],
   "source": [
    "edges_unique = np.unique(np.array(edges_labelled), axis=0)"
   ]
  },
  {
   "cell_type": "code",
   "execution_count": null,
   "metadata": {},
   "outputs": [],
   "source": [
    "import csv\n",
    "\n",
    "with open('../dataset\\stable\\contact_network/mtl wifi/mtl_wifi.edgelist', 'w', newline=\"\") as f:\n",
    "    writer = csv.writer(f, delimiter=' ')\n",
    "    writer.writerows(edges_unique)"
   ]
  },
  {
   "cell_type": "code",
   "execution_count": null,
   "metadata": {},
   "outputs": [],
   "source": [
    "df_edges = pd.read_csv('../dataset\\stable\\contact_network/mtl wifi/mtl_wifi.edgelist', sep=\" \", names=[\"i\", \"j\"])"
   ]
  },
  {
   "cell_type": "code",
   "execution_count": null,
   "metadata": {},
   "outputs": [],
   "source": [
    "G = nx.read_edgelist(\"../dataset\\stable\\contact_network/mtl wifi/mtl_wifi.edgelist\", nodetype=int)"
   ]
  },
  {
   "cell_type": "code",
   "execution_count": null,
   "metadata": {},
   "outputs": [],
   "source": [
    "largest_cc = max(nx.connected_components(G), key=len)\n",
    "print(\"Mtl wifi number of connected componenets: \", nx.number_connected_components(G), len(largest_cc))"
   ]
  },
  {
   "cell_type": "code",
   "execution_count": null,
   "metadata": {},
   "outputs": [],
   "source": [
    "C = G.subgraph(largest_cc).copy()\n",
    "C = nx.convert_node_labels_to_integers(C)"
   ]
  },
  {
   "cell_type": "code",
   "execution_count": null,
   "metadata": {},
   "outputs": [],
   "source": [
    "nx.write_edgelist(C, \"../dataset\\stable\\contact_network/mtl wifi/mtl_wifi.edgelist\")"
   ]
  }
 ],
 "metadata": {
  "kernelspec": {
   "display_name": "Python 3",
   "language": "python",
   "name": "python3"
  },
  "language_info": {
   "codemirror_mode": {
    "name": "ipython",
    "version": 3
   },
   "file_extension": ".py",
   "mimetype": "text/x-python",
   "name": "python",
   "nbconvert_exporter": "python",
   "pygments_lexer": "ipython3",
   "version": "3.7.3"
  }
 },
 "nbformat": 4,
 "nbformat_minor": 2
}